{
  "nbformat": 4,
  "nbformat_minor": 0,
  "metadata": {
    "colab": {
      "provenance": []
    },
    "kernelspec": {
      "name": "python3",
      "display_name": "Python 3"
    },
    "language_info": {
      "name": "python"
    }
  },
  "cells": [
    {
      "cell_type": "code",
      "execution_count": 19,
      "metadata": {
        "id": "ieHE6IOK3sVD"
      },
      "outputs": [],
      "source": [
        "import tensorflow as tf  #ensorFlow is an open-source library for machine learning and deep learning. You use TensorFlow to build, train, and deploy machine learning models.\n",
        "import numpy as np #numpy is used to handle data structures like arrays and matrices, and it provides functions for mathematical operations. In this context, it's typically used for working with arrays of data.\n",
        "from tensorflow.keras.datasets import imdb #The imdb dataset contains 25,000 movie reviews labeled as positive or negative. This dataset is pre-split into training and test data. You can load it with the load_data() function for binary classification problems.\n",
        "from tensorflow.keras.preprocessing.sequence import pad_sequences #he IMDB dataset consists of movie reviews represented as sequences of integers. Since each review may have a different length, you use pad_sequences to ensure all input sequences have the same length by padding shorter sequences with zeros.\n",
        "from tensorflow.keras.models import Sequential #The Sequential model is a linear stack of layers, where you add layers one by one in sequence. It is the simplest type of model in Keras for most cases.\n",
        "from tensorflow.keras.layers import Embedding,Dense,GlobalAveragePooling1D\n",
        "#Embedding Layer:\n",
        "#Purpose: This layer is used to create word embeddings for the input text. It converts integer sequences (representing words) into dense vectors of fixed size.\n",
        "\n",
        "#Dense Layer:\n",
        "#Purpose: The Dense layer is a fully connected layer in which each neuron is connected to every neuron in the previous layer. It is used to create the final output layer and any hidden layers in the neural network.\n",
        "\n",
        "#GlobalAveragePooling1D Layer:\n",
        "#Purpose: This layer is typically used to reduce the spatial dimensions of the input by taking the average of all the values along the sequence. It is commonly used in text classification models after the embedding or convolutional layers."
      ]
    },
    {
      "cell_type": "code",
      "source": [
        "vocab_size=10000 #This variable defines the maximum number of words to be considered in the dataset. By setting vocab_size = 10000, you're restricting the dataset to only the top 10,000 most frequent words in the IMDB dataset.\n",
        "\n",
        "\n",
        "(X_train,y_train),(X_test,y_test)=imdb.load_data(num_words=vocab_size)\n",
        "\n",
        "#x_train and x_test are lists of integers that represent the movie reviews. Each review is converted into a sequence of integers, where each integer represents a unique word (from the vocabulary of the dataset).\n",
        "\n",
        "#y_train and y_test are the labels corresponding to the reviews: 0 for negative reviews and 1 for positive reviews."
      ],
      "metadata": {
        "id": "wuB0WWmL5EtY"
      },
      "execution_count": 27,
      "outputs": []
    },
    {
      "cell_type": "code",
      "source": [
        "max_length=500 #Sets the desired length for each review. Any review longer than 500 words will be truncated, and any shorter review will be padded with zeros (by default) at the beginning.\n",
        "X_train=pad_sequences(X_train,maxlen=max_length) #Pads or truncates the training data (x_train) so that each review becomes a sequence of exactly 500 integers (word indices).\n",
        "x_test=pad_sequences(X_test,maxlen=max_length)"
      ],
      "metadata": {
        "id": "V7iAQNF25Evo"
      },
      "execution_count": 28,
      "outputs": []
    },
    {
      "cell_type": "code",
      "source": [
        "model=Sequential()\n",
        "model.add(Embedding(input_dim=vocab_size,output_dim=32)) #input_dim=vocab_size: Size of the vocabulary (10,000 most frequent words).\n",
        "# output_dim=32: Each word index will be mapped to a 32-dimensional dense vector.\n",
        "\n",
        "model.add(GlobalAveragePooling1D()) #Averages the 32-dimensional word vectors across the 500-token input.\n",
        "#Reduces the output to a fixed-size vector regardless of input length.\n",
        "#This is simpler and faster than using an LSTM/GRU or CNN.\n",
        "\n",
        "model.add(Dense(16,activation='relu')) #ReLU activation for non-linearity. Learns complex combinations of the word embeddings.\n",
        "\n",
        "model.add(Dense(1,activation='sigmoid')) # neuron (because this is binary classification). sigmoid activation outputs a probability between 0 and 1. Predicts the probability that a review is positive (1) or negative (0)."
      ],
      "metadata": {
        "id": "Tb9F1e525Ex9"
      },
      "execution_count": 29,
      "outputs": []
    },
    {
      "cell_type": "code",
      "source": [
        "model.compile(optimizer='adam', loss='binary_crossentropy', metrics=['accuracy'])\n"
      ],
      "metadata": {
        "id": "fDqa8SbZ5E0K"
      },
      "execution_count": 30,
      "outputs": []
    },
    {
      "cell_type": "code",
      "source": [
        "history = model.fit(x_train, y_train, epochs=10, batch_size=512, validation_split=0.2)\n"
      ],
      "metadata": {
        "id": "9-1RfhdL5E2t",
        "colab": {
          "base_uri": "https://localhost:8080/"
        },
        "outputId": "eb26d5d7-387f-47e2-fca0-471bc0479c93"
      },
      "execution_count": 31,
      "outputs": [
        {
          "output_type": "stream",
          "name": "stdout",
          "text": [
            "Epoch 1/10\n",
            "\u001b[1m40/40\u001b[0m \u001b[32m━━━━━━━━━━━━━━━━━━━━\u001b[0m\u001b[37m\u001b[0m \u001b[1m4s\u001b[0m 64ms/step - accuracy: 0.5204 - loss: 0.6918 - val_accuracy: 0.5452 - val_loss: 0.6855\n",
            "Epoch 2/10\n",
            "\u001b[1m40/40\u001b[0m \u001b[32m━━━━━━━━━━━━━━━━━━━━\u001b[0m\u001b[37m\u001b[0m \u001b[1m5s\u001b[0m 65ms/step - accuracy: 0.6024 - loss: 0.6798 - val_accuracy: 0.6124 - val_loss: 0.6647\n",
            "Epoch 3/10\n",
            "\u001b[1m40/40\u001b[0m \u001b[32m━━━━━━━━━━━━━━━━━━━━\u001b[0m\u001b[37m\u001b[0m \u001b[1m3s\u001b[0m 71ms/step - accuracy: 0.6122 - loss: 0.6618 - val_accuracy: 0.7158 - val_loss: 0.6313\n",
            "Epoch 4/10\n",
            "\u001b[1m40/40\u001b[0m \u001b[32m━━━━━━━━━━━━━━━━━━━━\u001b[0m\u001b[37m\u001b[0m \u001b[1m5s\u001b[0m 61ms/step - accuracy: 0.7290 - loss: 0.6196 - val_accuracy: 0.7756 - val_loss: 0.5823\n",
            "Epoch 5/10\n",
            "\u001b[1m40/40\u001b[0m \u001b[32m━━━━━━━━━━━━━━━━━━━━\u001b[0m\u001b[37m\u001b[0m \u001b[1m2s\u001b[0m 57ms/step - accuracy: 0.7670 - loss: 0.5694 - val_accuracy: 0.7502 - val_loss: 0.5372\n",
            "Epoch 6/10\n",
            "\u001b[1m40/40\u001b[0m \u001b[32m━━━━━━━━━━━━━━━━━━━━\u001b[0m\u001b[37m\u001b[0m \u001b[1m3s\u001b[0m 66ms/step - accuracy: 0.7949 - loss: 0.5161 - val_accuracy: 0.7900 - val_loss: 0.4867\n",
            "Epoch 7/10\n",
            "\u001b[1m40/40\u001b[0m \u001b[32m━━━━━━━━━━━━━━━━━━━━\u001b[0m\u001b[37m\u001b[0m \u001b[1m5s\u001b[0m 58ms/step - accuracy: 0.8347 - loss: 0.4577 - val_accuracy: 0.7922 - val_loss: 0.4550\n",
            "Epoch 8/10\n",
            "\u001b[1m40/40\u001b[0m \u001b[32m━━━━━━━━━━━━━━━━━━━━\u001b[0m\u001b[37m\u001b[0m \u001b[1m2s\u001b[0m 47ms/step - accuracy: 0.8265 - loss: 0.4285 - val_accuracy: 0.8218 - val_loss: 0.4203\n",
            "Epoch 9/10\n",
            "\u001b[1m40/40\u001b[0m \u001b[32m━━━━━━━━━━━━━━━━━━━━\u001b[0m\u001b[37m\u001b[0m \u001b[1m3s\u001b[0m 57ms/step - accuracy: 0.8489 - loss: 0.3929 - val_accuracy: 0.7932 - val_loss: 0.4245\n",
            "Epoch 10/10\n",
            "\u001b[1m40/40\u001b[0m \u001b[32m━━━━━━━━━━━━━━━━━━━━\u001b[0m\u001b[37m\u001b[0m \u001b[1m3s\u001b[0m 70ms/step - accuracy: 0.8551 - loss: 0.3676 - val_accuracy: 0.8620 - val_loss: 0.3687\n"
          ]
        }
      ]
    },
    {
      "cell_type": "code",
      "source": [
        "results=model.evaluate(x_test,y_test)\n",
        "print(f'Test Accuracy::{results[1]}')"
      ],
      "metadata": {
        "id": "YCdbscFg5E42",
        "colab": {
          "base_uri": "https://localhost:8080/"
        },
        "outputId": "b57dbd8d-21ba-4581-878d-2b9d474788de"
      },
      "execution_count": 36,
      "outputs": [
        {
          "output_type": "stream",
          "name": "stdout",
          "text": [
            "\u001b[1m782/782\u001b[0m \u001b[32m━━━━━━━━━━━━━━━━━━━━\u001b[0m\u001b[37m\u001b[0m \u001b[1m2s\u001b[0m 2ms/step - accuracy: 0.8571 - loss: 0.3735\n",
            "Test Accuracy::0.8569599986076355\n"
          ]
        }
      ]
    },
    {
      "cell_type": "code",
      "source": [
        "import matplotlib.pyplot as plt\n",
        "\n",
        "plt.plot(history.history['accuracy'],label=\"Training accuracy\")\n",
        "plt.plot(history.history['val_accuracy'],label=\"Validation accuracy\")\n",
        "plt.xlabel(\"Epochs\")\n",
        "plt.ylabel(\"Accuracy\")\n",
        "plt.legend()\n",
        "plt.show()"
      ],
      "metadata": {
        "id": "7zdo_Hsf5E7E",
        "colab": {
          "base_uri": "https://localhost:8080/",
          "height": 449
        },
        "outputId": "7a62c3fa-8f36-4520-db3f-5ddb19e6fb2a"
      },
      "execution_count": 38,
      "outputs": [
        {
          "output_type": "display_data",
          "data": {
            "text/plain": [
              "<Figure size 640x480 with 1 Axes>"
            ],
            "image/png": "[encoded data removed]"
          },
          "metadata": {}
        }
      ]
    },
    {
      "cell_type": "code",
      "source": [],
      "metadata": {
        "id": "8EkYtpe75E84"
      },
      "execution_count": null,
      "outputs": []
    },
    {
      "cell_type": "code",
      "source": [],
      "metadata": {
        "id": "H4oXPy-85FAL"
      },
      "execution_count": null,
      "outputs": []
    },
    {
      "cell_type": "code",
      "source": [],
      "metadata": {
        "id": "pJLRFerU5FCx"
      },
      "execution_count": null,
      "outputs": []
    },
    {
      "cell_type": "code",
      "source": [],
      "metadata": {
        "id": "8H8J92Tz5FE0"
      },
      "execution_count": null,
      "outputs": []
    },
    {
      "cell_type": "code",
      "source": [],
      "metadata": {
        "id": "bv2pUsGp5FG5"
      },
      "execution_count": null,
      "outputs": []
    },
    {
      "cell_type": "code",
      "source": [],
      "metadata": {
        "id": "5O4RfPId5FJj"
      },
      "execution_count": null,
      "outputs": []
    },
    {
      "cell_type": "code",
      "source": [],
      "metadata": {
        "id": "uK3lyrNy5FM3"
      },
      "execution_count": null,
      "outputs": []
    }
  ]
}